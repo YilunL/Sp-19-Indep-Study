{
 "cells": [
  {
   "cell_type": "code",
   "execution_count": 11,
   "metadata": {},
   "outputs": [],
   "source": [
    "import pandas as pd\n",
    "import numpy as np\n",
    "import scipy as sp\n",
    "from scipy.optimize import minimize"
   ]
  },
  {
   "cell_type": "code",
   "execution_count": 2,
   "metadata": {},
   "outputs": [],
   "source": [
    "# consumer demand logit\n",
    "\n",
    "def cons_demand(p, store):\n",
    "    beta_0 = 2  # intercept\n",
    "    beta_1 = 2  # price\n",
    "    beta_2 = 1  # store\n",
    "    beta_3 = 1  # brand effect\n",
    "    \n",
    "    p_A = p[0]\n",
    "    p_B = p[1]\n",
    "    \n",
    "    odds_A = np.exp(beta_0 - p_A * beta_1 + store * beta_2)\n",
    "    odds_B = np.exp(beta_0 - p_B * beta_1 + store * beta_2 + beta_3)\n",
    "    \n",
    "    return(odds_A, odds_B)"
   ]
  },
  {
   "cell_type": "code",
   "execution_count": 3,
   "metadata": {},
   "outputs": [],
   "source": [
    "def quantities(p_1, p_2):\n",
    "    odds_1 = cons_demand(p_1, 0)  # store 1\n",
    "    odds_2 = cons_demand(p_2, 1)  # store 2\n",
    "    q_1A = odds_1[0]/(1 + np.sum([odds_1, odds_2]))\n",
    "    q_1B = odds_1[1]/(1 + np.sum([odds_1, odds_2]))\n",
    "    q_2A = odds_2[0]/(1 + np.sum([odds_1, odds_2]))\n",
    "    q_2B = odds_2[1]/(1 + np.sum([odds_1, odds_2]))\n",
    "    return(q_1A, q_1B, q_2A, q_2B)"
   ]
  },
  {
   "cell_type": "code",
   "execution_count": 4,
   "metadata": {},
   "outputs": [],
   "source": [
    "epsilon = 1E-10\n",
    "\n",
    "w_1A = 0.5  #wholesale prices\n",
    "w_1B = 0.5\n",
    "w_2A = 0.5\n",
    "w_2B = 0.5\n",
    "w = np.array([w_1A, w_1B, w_2A, w_2B])\n",
    "\n",
    "p_1A = 1  # prices\n",
    "p_1B = 1\n",
    "p_2A = 1\n",
    "p_2B = 1\n",
    "\n",
    "p = np.array([p_1A, p_1B, p_2A, p_2B])\n",
    "p_1 = np.array([p_1A, p_1B])  #as array\n",
    "p_2 = np.array([p_2A, p_2B])\n",
    "\n",
    "q = quantities(p_1, p_2)  #q_1A, q_1B, q_2A, q_2B"
   ]
  },
  {
   "cell_type": "code",
   "execution_count": 5,
   "metadata": {},
   "outputs": [],
   "source": [
    "# calculates downstream partial derivatives given a peturbed vector\n",
    "def downstream_partial(p_1, p_2, q): \n",
    "    new_q = quantities(p_1, p_2)\n",
    "    deriv = np.zeros(len(q))\n",
    "    for i in range(len(q)):\n",
    "        deriv[i] = (new_q[i] - q[i])/epsilon\n",
    "    return(deriv)        \n",
    "\n"
   ]
  },
  {
   "cell_type": "code",
   "execution_count": 6,
   "metadata": {},
   "outputs": [],
   "source": [
    "# perturbed prices\n",
    "dp_1A = np.array([p_1A + epsilon, p_1B])\n",
    "dp_1B = np.array([p_1A, p_1B + epsilon])\n",
    "dp_2A = np.array([p_2A + epsilon, p_2B])\n",
    "dp_2B = np.array([p_2A, p_2B + epsilon])\n",
    "\n",
    "# calculate partials:\n",
    "dq_dp_1A = downstream_partial(dp_1A, p_2, q) #dq_1A, dq_1B, dq_2A, dq_2B\n",
    "dq_dp_1B = downstream_partial(dp_1B, p_2, q)\n",
    "dq_dp_2A = downstream_partial(p_1, dp_2A, q)\n",
    "dq_dp_2B = downstream_partial(p_1, dp_2B, q)"
   ]
  },
  {
   "cell_type": "code",
   "execution_count": 14,
   "metadata": {},
   "outputs": [],
   "source": [
    "def objective(p, w, q, dq_dp_1A, dq_dp_1B, dq_dp_2A, dq_dp_2B):\n",
    "    penalty = 0 \n",
    "    \n",
    "    # Firm 1 FOC\n",
    "    dpi_1_dp_1A = (q[0] + (p[0] - w[0]) * dq_dp_1A[0] \n",
    "                   + (p[1] - w[1])*dq_dp_1A[1])\n",
    "    \n",
    "    dpi_1_dp_1B = (q[1] + (p[1] - w[1]) * dq_dp_1B[1] \n",
    "                   + (p[0] - w[0])*dq_dp_1B[0])\n",
    "                   \n",
    "    dpi_2_dp_2A = (q[2] + (p[2] - w[2]) * dq_dp_2A[2] \n",
    "                   + (p[3] - w[3])*dq_dp_2A[3])\n",
    "    \n",
    "    dpi_2_dp_2B = (q[3] + (p[3] - w[3]) * dq_dp_2B[3] \n",
    "                   + (p[2] - w[2])*dq_dp_2B[2])\n",
    "    \n",
    "    penalty = np.sqrt(\n",
    "        np.sum(dpi_1_dp_1A**2 + dpi_1_dp_1B**2 \n",
    "               + dpi_2_dp_2A**2 + dpi_2_dp_2B**2))\n",
    "    \n",
    "    return(penalty)\n"
   ]
  },
  {
   "cell_type": "code",
   "execution_count": 19,
   "metadata": {},
   "outputs": [
    {
     "name": "stdout",
     "output_type": "stream",
     "text": [
      "Optimization terminated successfully.\n",
      "         Current function value: 0.000000\n",
      "         Iterations: 222\n",
      "         Function evaluations: 386\n"
     ]
    }
   ],
   "source": [
    "res = minimize(objective, p, method = \"Nelder-Mead\", tol = 1E-9,\n",
    "              args = (w,q, dq_dp_1A, dq_dp_1B, dq_dp_2A, dq_dp_2B),\n",
    "              options = {'disp': True})\n",
    "\n"
   ]
  },
  {
   "cell_type": "code",
   "execution_count": 21,
   "metadata": {},
   "outputs": [
    {
     "data": {
      "text/plain": [
       "array([1.16738093, 1.16738039, 2.07108716, 2.07108426])"
      ]
     },
     "execution_count": 21,
     "metadata": {},
     "output_type": "execute_result"
    }
   ],
   "source": [
    "res.x\n"
   ]
  },
  {
   "cell_type": "code",
   "execution_count": null,
   "metadata": {},
   "outputs": [],
   "source": []
  }
 ],
 "metadata": {
  "kernelspec": {
   "display_name": "Python 3",
   "language": "python",
   "name": "python3"
  },
  "language_info": {
   "codemirror_mode": {
    "name": "ipython",
    "version": 3
   },
   "file_extension": ".py",
   "mimetype": "text/x-python",
   "name": "python",
   "nbconvert_exporter": "python",
   "pygments_lexer": "ipython3",
   "version": "3.6.4"
  }
 },
 "nbformat": 4,
 "nbformat_minor": 2
}
